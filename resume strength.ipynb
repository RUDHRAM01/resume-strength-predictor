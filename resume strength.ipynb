{
 "cells": [
  {
   "cell_type": "code",
   "execution_count": 4,
   "id": "3f9c33dc",
   "metadata": {},
   "outputs": [],
   "source": [
    "import docx2txt"
   ]
  },
  {
   "cell_type": "code",
   "execution_count": 9,
   "id": "39bed7b5",
   "metadata": {},
   "outputs": [],
   "source": [
    "resume = docx2txt.process(\"./Docx/resume.docx\")"
   ]
  },
  {
   "cell_type": "code",
   "execution_count": 12,
   "id": "7d7ef211",
   "metadata": {},
   "outputs": [],
   "source": [
    "jobdec = docx2txt.process(\"./Docx/jobdec.docx\")"
   ]
  },
  {
   "cell_type": "code",
   "execution_count": 14,
   "id": "a8ada3a0",
   "metadata": {},
   "outputs": [],
   "source": [
    "content = [jobdec,resume]"
   ]
  },
  {
   "cell_type": "code",
   "execution_count": 15,
   "id": "3d4a35c7",
   "metadata": {},
   "outputs": [],
   "source": [
    "from sklearn.feature_extraction.text import CountVectorizer"
   ]
  },
  {
   "cell_type": "code",
   "execution_count": 16,
   "id": "e9b3f495",
   "metadata": {},
   "outputs": [],
   "source": [
    "cv = CountVectorizer()"
   ]
  },
  {
   "cell_type": "code",
   "execution_count": 18,
   "id": "30713374",
   "metadata": {},
   "outputs": [],
   "source": [
    "matrix = cv.fit_transform(content)"
   ]
  },
  {
   "cell_type": "markdown",
   "id": "ec99c3ce",
   "metadata": {},
   "source": [
    "# now we will see the similarity\n",
    "# for that we will use the cosine \n",
    "\n",
    "from sklearn.metrics.pairwise import cosine_similarity\n",
    "similaritymartix = cosine_similarity(matrix)"
   ]
  },
  {
   "cell_type": "code",
   "execution_count": 20,
   "id": "c2b6d132",
   "metadata": {},
   "outputs": [],
   "source": [
    "from sklearn.metrics.pairwise import cosine_similarity \n",
    "similaritymartix = cosine_similarity(matrix)"
   ]
  },
  {
   "cell_type": "code",
   "execution_count": 21,
   "id": "e967138f",
   "metadata": {},
   "outputs": [
    {
     "name": "stdout",
     "output_type": "stream",
     "text": [
      "[[1.         0.22098305]\n",
      " [0.22098305 1.        ]]\n"
     ]
    }
   ],
   "source": [
    "print(similaritymartix)"
   ]
  },
  {
   "cell_type": "code",
   "execution_count": 22,
   "id": "ae54e8a8",
   "metadata": {},
   "outputs": [
    {
     "name": "stdout",
     "output_type": "stream",
     "text": [
      "resume matches by : 22.09830456885193%\n"
     ]
    }
   ],
   "source": [
    "print(\"resume matches by : \"+str(similaritymartix[1][0] * 100) + '%')"
   ]
  },
  {
   "cell_type": "code",
   "execution_count": null,
   "id": "a1b8a8d5",
   "metadata": {},
   "outputs": [],
   "source": []
  }
 ],
 "metadata": {
  "kernelspec": {
   "display_name": "Python 3 (ipykernel)",
   "language": "python",
   "name": "python3"
  },
  "language_info": {
   "codemirror_mode": {
    "name": "ipython",
    "version": 3
   },
   "file_extension": ".py",
   "mimetype": "text/x-python",
   "name": "python",
   "nbconvert_exporter": "python",
   "pygments_lexer": "ipython3",
   "version": "3.10.5"
  }
 },
 "nbformat": 4,
 "nbformat_minor": 5
}
